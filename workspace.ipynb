{
 "cells": [
  {
   "cell_type": "code",
   "execution_count": 1,
   "metadata": {},
   "outputs": [],
   "source": [
    "\"\"\"This file is a test playground for new scripts and functions.\"\"\"\n",
    "\n",
    "%load_ext autoreload\n",
    "%autoreload 2\n",
    "\n",
    "###### USER SETTINGS ######\n",
    "SERIAL_ACTIVE = False # if False, just runs the algorithm without sending to HV switches\n",
    "\n",
    "###### INITIALIZATIONS ######\n",
    "import cv2\n",
    "import time\n",
    "import serial\n",
    "import numpy as np\n",
    "import visual_haptic_utils.haptic_funcs as haptic_funcs # my custom file\n",
    "import visual_haptic_utils.USB_writer as USB_writer # my custom file\n",
    "import matplotlib.pyplot as plt\n",
    "\n",
    "###### MAIN ######\n",
    "\n",
    "# initialize camera and gesture model:\n",
    "frame_rate = 24\n",
    "generator = haptic_funcs.IntensityGenerator(total_time=5, frame_rate=frame_rate)\n",
    "haptic_map = haptic_funcs.HapticMap()\n",
    "\n",
    "output_list = []\n",
    "output_list.extend(generator.ramp(direction=1))\n",
    "output_list.extend(generator.ramp(direction=-1))\n",
    "output_list.extend(generator.sine_global(freq=1))\n",
    "output_list.extend(generator.checker_sine(freq=0.5))\n",
    "output_list.extend(generator.checker_square(freq=0.5))\n",
    "\n",
    "duty_array_list, period_array_list = haptic_map.linear_map(output_list,\n",
    "                                                           freq_range=(0,200),\n",
    "                                                           duty_range=(0.05,0.5))\n"
   ]
  },
  {
   "cell_type": "code",
   "execution_count": 9,
   "metadata": {},
   "outputs": [
    {
     "data": {
      "text/plain": [
       "array([[0.275, 0.275, 0.275, 0.275, 0.275, 0.275, 0.275],\n",
       "       [0.275, 0.275, 0.275, 0.275, 0.275, 0.275, 0.275],\n",
       "       [0.275, 0.275, 0.275, 0.275, 0.275, 0.275, 0.275],\n",
       "       [0.275, 0.275, 0.275, 0.275, 0.275, 0.275, 0.275]])"
      ]
     },
     "execution_count": 9,
     "metadata": {},
     "output_type": "execute_result"
    }
   ],
   "source": [
    "duty_array_list[300]"
   ]
  }
 ],
 "metadata": {
  "kernelspec": {
   "display_name": "Python 3",
   "language": "python",
   "name": "python3"
  },
  "language_info": {
   "codemirror_mode": {
    "name": "ipython",
    "version": 3
   },
   "file_extension": ".py",
   "mimetype": "text/x-python",
   "name": "python",
   "nbconvert_exporter": "python",
   "pygments_lexer": "ipython3",
   "version": "3.12.3"
  }
 },
 "nbformat": 4,
 "nbformat_minor": 2
}
