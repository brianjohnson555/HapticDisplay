{
 "cells": [
  {
   "cell_type": "code",
   "execution_count": 74,
   "metadata": {},
   "outputs": [
    {
     "name": "stdout",
     "output_type": "stream",
     "text": [
      "The autoreload extension is already loaded. To reload it, use:\n",
      "  %reload_ext autoreload\n"
     ]
    }
   ],
   "source": [
    "\"\"\"This file is a test playground for new scripts and functions.\"\"\"\n",
    "\n",
    "%load_ext autoreload\n",
    "%autoreload 2\n",
    "\n",
    "###### USER SETTINGS ######\n",
    "SERIAL_ACTIVE = False # if False, just runs the algorithm without sending to HV switches\n",
    "\n",
    "###### INITIALIZATIONS ######\n",
    "import cv2\n",
    "import time\n",
    "import serial\n",
    "import numpy as np\n",
    "import visual_haptic_utils.haptic_funcs as haptic_funcs # my custom file\n",
    "import visual_haptic_utils.USB_writer as USB_writer # my custom file\n",
    "import matplotlib.pyplot as plt\n",
    "\n",
    "###### MAIN ######\n",
    "\n",
    "# initialize camera and gesture model:\n",
    "frame_rate = 24\n",
    "generator = haptic_funcs.IntensityGenerator(total_time=5, frame_rate=frame_rate)\n",
    "haptic_map = haptic_funcs.HapticMap()\n",
    "\n",
    "output_list = []\n",
    "output_list.extend(generator.ramp(direction=1))\n",
    "output_list.extend(generator.ramp(direction=-1))\n",
    "\n",
    "duty_array_list, period_array_list = haptic_map.linear_map_sequence(output_list,\n",
    "                                                           freq_range=(0,200),\n",
    "                                                           duty_range=(0.05,0.5))\n"
   ]
  },
  {
   "cell_type": "code",
   "execution_count": 3,
   "metadata": {},
   "outputs": [
    {
     "data": {
      "text/plain": [
       "(30,)"
      ]
     },
     "execution_count": 3,
     "metadata": {},
     "output_type": "execute_result"
    }
   ],
   "source": [
    "duty_array_list[10]"
   ]
  },
  {
   "cell_type": "code",
   "execution_count": 4,
   "metadata": {},
   "outputs": [],
   "source": [
    "packet_list = USB_writer.make_packet_sequence(duty_array_list, period_array_list)"
   ]
  },
  {
   "cell_type": "code",
   "execution_count": 9,
   "metadata": {},
   "outputs": [
    {
     "name": "stdout",
     "output_type": "stream",
     "text": [
      "b'P\\x05\\x00\\x05\\x00\\x05\\x00\\x05\\x00\\x05\\x00\\x05\\x00\\x05\\x00\\x05\\x00\\x05\\x00T\\x16\\x00\\x16\\x00\\x16\\x00\\x16\\x00\\x16\\x00\\x16\\x00\\x16\\x00\\x16\\x00\\x16\\x00'\n",
      "b'P\\x05\\x00\\x05\\x00\\x05\\x00\\x05\\x00\\x05\\x00\\x05\\x00\\x05\\x00\\x05\\x00\\x05\\x00T\\x16\\x00\\x16\\x00\\x16\\x00\\x16\\x00\\x16\\x00\\x16\\x00\\x16\\x00\\x16\\x00\\x16\\x00'\n",
      "b'P\\x05\\x00\\x05\\x00\\x05\\x00\\x05\\x00\\x05\\x00\\x05\\x00\\x05\\x00\\x05\\x00\\x00\\x00T\\x16\\x00\\x16\\x00\\x16\\x00\\x16\\x00\\x16\\x00\\x16\\x00\\x16\\x00\\x16\\x00\\x00\\x00'\n"
     ]
    }
   ],
   "source": [
    "for packet in packet_list[50]:\n",
    "    print(packet)"
   ]
  },
  {
   "cell_type": "code",
   "execution_count": 77,
   "metadata": {},
   "outputs": [],
   "source": [
    "###### USER SETTINGS ######\n",
    "FILENAME = \"algo_input_data/datakoi_output.txt\"\n",
    "VIDEONAME = \"algo_input_videos/video_koi.mp4\"\n",
    "SERIAL_ACTIVE = True # if False, just runs the algorithm without sending to HV switches\n",
    "COM_A = \"COM9\" # port for MINI switches 1-10\n",
    "COM_B = \"COM15\" # port for MINI switches 11-20\n",
    "COM_C = \"COM16\" # port for MINI swiches 21-28\n",
    "\n",
    "###### INITIALIZATIONS ######\n",
    "import cv2\n",
    "import time\n",
    "import visual_haptic_utils.haptic_funcs as haptic_funcs # my custom file\n",
    "import visual_haptic_utils.USB_writer as USB_writer # my custom file\n",
    "from numpy import genfromtxt\n",
    "\n",
    "###### MAIN ######\n",
    "# Load data\n",
    "data=genfromtxt(FILENAME,delimiter=',')[:,0:28]"
   ]
  },
  {
   "cell_type": "code",
   "execution_count": 80,
   "metadata": {},
   "outputs": [
    {
     "data": {
      "text/plain": [
       "(1796, 28)"
      ]
     },
     "execution_count": 80,
     "metadata": {},
     "output_type": "execute_result"
    }
   ],
   "source": [
    "data.shape"
   ]
  }
 ],
 "metadata": {
  "kernelspec": {
   "display_name": "Python 3",
   "language": "python",
   "name": "python3"
  },
  "language_info": {
   "codemirror_mode": {
    "name": "ipython",
    "version": 3
   },
   "file_extension": ".py",
   "mimetype": "text/x-python",
   "name": "python",
   "nbconvert_exporter": "python",
   "pygments_lexer": "ipython3",
   "version": "3.10.9"
  }
 },
 "nbformat": 4,
 "nbformat_minor": 2
}
