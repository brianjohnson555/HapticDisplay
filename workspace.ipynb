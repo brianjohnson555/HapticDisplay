{
 "cells": [
  {
   "cell_type": "code",
   "execution_count": 14,
   "metadata": {},
   "outputs": [
    {
     "name": "stdout",
     "output_type": "stream",
     "text": [
      "The autoreload extension is already loaded. To reload it, use:\n",
      "  %reload_ext autoreload\n"
     ]
    }
   ],
   "source": [
    "\"\"\"This file is a test playground for new scripts and functions.\"\"\"\n",
    "\n",
    "%load_ext autoreload\n",
    "%autoreload 2\n",
    "import numpy as np\n",
    "import utils.algo_functions as algo_functions\n",
    "import utils.algo_gesture as algo_gesture\n",
    "import matplotlib.pyplot as plt\n",
    "import matplotlib.animation as animation\n",
    "plt.rcParams['animation.ffmpeg_path'] = \"C:/ffmpeg/bin/ffmpeg.exe\""
   ]
  },
  {
   "cell_type": "code",
   "execution_count": 12,
   "metadata": {},
   "outputs": [],
   "source": [
    "output_generator = algo_functions.IntensityGenerator(total_time = 10, frame_rate = 24)\n",
    "\n",
    "output_list = output_generator.ramp(direction=-1)"
   ]
  },
  {
   "cell_type": "code",
   "execution_count": 13,
   "metadata": {},
   "outputs": [],
   "source": [
    "ims = []\n",
    "figure = plt.figure()\n",
    "for i in range(0,len(output_list)):\n",
    "    im = plt.imshow(output_list[i], animated=True, vmin=0, vmax=1)\n",
    "    ims.append([im])\n",
    "ani = animation.ArtistAnimation(figure, ims, blit=True, repeat=False)\n",
    "filename = \"output_videos/animation_test_output.mp4\"\n",
    "ani.save(filename, writer = \"ffmpeg\", bitrate=1000, fps=24)\n",
    "plt.close()"
   ]
  },
  {
   "cell_type": "code",
   "execution_count": 22,
   "metadata": {},
   "outputs": [],
   "source": [
    "generator = algo_functions.IntensityGenerator(total_time=5, frame_rate=24)\n",
    "intensity_map = algo_functions.IntensityMap()\n",
    "\n",
    "output_list = []\n",
    "output_list.extend(generator.ramp(1))\n",
    "output_list.extend(generator.ramp(-1))\n",
    "output_list.extend(generator.sine_global(freq=1))\n",
    "output_list.extend(generator.checker_sine(freq=0.5))\n",
    "output_list.extend(generator.checker_square(freq=0.5))"
   ]
  },
  {
   "cell_type": "code",
   "execution_count": 23,
   "metadata": {},
   "outputs": [
    {
     "data": {
      "text/plain": [
       "array([[0.01694915, 0.01694915, 0.01694915, 0.01694915, 0.01694915,\n",
       "        0.01694915, 0.01694915],\n",
       "       [0.01694915, 0.01694915, 0.01694915, 0.01694915, 0.01694915,\n",
       "        0.01694915, 0.01694915],\n",
       "       [0.01694915, 0.01694915, 0.01694915, 0.01694915, 0.01694915,\n",
       "        0.01694915, 0.01694915],\n",
       "       [0.01694915, 0.01694915, 0.01694915, 0.01694915, 0.01694915,\n",
       "        0.01694915, 0.01694915]])"
      ]
     },
     "execution_count": 23,
     "metadata": {},
     "output_type": "execute_result"
    }
   ],
   "source": [
    "output_list[2]"
   ]
  }
 ],
 "metadata": {
  "kernelspec": {
   "display_name": "Python 3",
   "language": "python",
   "name": "python3"
  },
  "language_info": {
   "codemirror_mode": {
    "name": "ipython",
    "version": 3
   },
   "file_extension": ".py",
   "mimetype": "text/x-python",
   "name": "python",
   "nbconvert_exporter": "python",
   "pygments_lexer": "ipython3",
   "version": "3.12.3"
  }
 },
 "nbformat": 4,
 "nbformat_minor": 2
}
