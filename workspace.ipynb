{
 "cells": [
  {
   "cell_type": "code",
   "execution_count": 24,
   "metadata": {},
   "outputs": [
    {
     "name": "stdout",
     "output_type": "stream",
     "text": [
      "The autoreload extension is already loaded. To reload it, use:\n",
      "  %reload_ext autoreload\n"
     ]
    }
   ],
   "source": [
    "%load_ext autoreload\n",
    "%autoreload 2\n",
    "import numpy as np\n",
    "import utils.algo_functions as algo_functions\n",
    "import utils.algo_gesture as algo_gesture\n",
    "import matplotlib.pyplot as plt\n",
    "import matplotlib.animation as animation\n",
    "plt.rcParams['animation.ffmpeg_path'] = \"C:/ffmpeg/bin/ffmpeg.exe\""
   ]
  },
  {
   "cell_type": "code",
   "execution_count": 41,
   "metadata": {},
   "outputs": [],
   "source": [
    "output_list = algo_functions.preprogram_output(3, 24, algo_functions.input_ramp, direction='left', scale=0.1, freq=2)"
   ]
  },
  {
   "cell_type": "code",
   "execution_count": 42,
   "metadata": {},
   "outputs": [],
   "source": [
    "ims = []\n",
    "figure = plt.figure()\n",
    "for i in range(0,len(output_list)):\n",
    "    im = plt.imshow(output_list[i], animated=True, vmin=0, vmax=1)\n",
    "    ims.append([im])\n",
    "ani = animation.ArtistAnimation(figure, ims, blit=True, repeat=False)\n",
    "filename = \"OutputVideos/animation_test_output.mp4\"\n",
    "ani.save(filename, writer = \"ffmpeg\", bitrate=1000, fps=30)\n",
    "plt.close()"
   ]
  }
 ],
 "metadata": {
  "kernelspec": {
   "display_name": "Python 3",
   "language": "python",
   "name": "python3"
  },
  "language_info": {
   "codemirror_mode": {
    "name": "ipython",
    "version": 3
   },
   "file_extension": ".py",
   "mimetype": "text/x-python",
   "name": "python",
   "nbconvert_exporter": "python",
   "pygments_lexer": "ipython3",
   "version": "3.12.3"
  }
 },
 "nbformat": 4,
 "nbformat_minor": 2
}
