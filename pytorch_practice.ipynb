{
 "cells": [
  {
   "attachments": {},
   "cell_type": "markdown",
   "metadata": {},
   "source": [
    "__PyTorch Practice and Learning__\n",
    "https://pytorch.org/tutorials/beginner/basics/quickstart_tutorial.html"
   ]
  },
  {
   "attachments": {},
   "cell_type": "markdown",
   "metadata": {},
   "source": [
    "__Quick start__"
   ]
  },
  {
   "cell_type": "code",
   "execution_count": 1,
   "metadata": {},
   "outputs": [],
   "source": [
    "import torch\n",
    "from torch import nn # neural network base module\n",
    "from torch.utils.data import DataLoader # wrapper for datasets\n",
    "from torchvision import datasets # stores data samples and labels\n",
    "from torchvision import transforms"
   ]
  },
  {
   "attachments": {},
   "cell_type": "markdown",
   "metadata": {},
   "source": [
    "Make datasets"
   ]
  },
  {
   "cell_type": "code",
   "execution_count": 2,
   "metadata": {},
   "outputs": [],
   "source": [
    "# Download training data from open datasets\n",
    "training_data = datasets.FashionMNIST(\n",
    "    root = \"data\", # creates/selects path folder /data to store dataset \n",
    "    train = True, # specify training or test dataset\n",
    "    download = True, # download if not available at root\n",
    "    transform = transforms.ToTensor(), # along with target_transform, specifies feature and label transformations\n",
    ")\n",
    "\n",
    "test_data = datasets.FashionMNIST(\n",
    "    root = \"data\",\n",
    "    train = False,\n",
    "    download = True,\n",
    "    transform = transforms.ToTensor(),\n",
    ")"
   ]
  },
  {
   "attachments": {},
   "cell_type": "markdown",
   "metadata": {},
   "source": [
    "Create dataloaders"
   ]
  },
  {
   "cell_type": "code",
   "execution_count": 3,
   "metadata": {},
   "outputs": [
    {
     "name": "stdout",
     "output_type": "stream",
     "text": [
      "Shape of X [N, C, H, W]: torch.Size([64, 1, 28, 28])\n",
      "Shape of y: torch.Size([64]) torch.int64\n"
     ]
    }
   ],
   "source": [
    "batch_size = 64 # each element in dataloader will return a batch of 64 features+labels\n",
    "\n",
    "# Create data loaders\n",
    "train_dataloader = DataLoader(training_data, batch_size=batch_size)\n",
    "test_dataloader = DataLoader(test_data, batch_size=batch_size)\n",
    "\n",
    "for X, y in test_dataloader:\n",
    "    print(f\"Shape of X [N, C, H, W]: {X.shape}\") # features batch shape\n",
    "    print(f\"Shape of y: {y.shape} {y.dtype}\") # labels batch shape\n",
    "    break"
   ]
  },
  {
   "attachments": {},
   "cell_type": "markdown",
   "metadata": {},
   "source": [
    "Create models"
   ]
  },
  {
   "cell_type": "code",
   "execution_count": 4,
   "metadata": {},
   "outputs": [
    {
     "name": "stdout",
     "output_type": "stream",
     "text": [
      "Using cpu device\n",
      "NeuralNetwork(\n",
      "  (flatten): Flatten(start_dim=1, end_dim=-1)\n",
      "  (linear_relu_stack): Sequential(\n",
      "    (0): Linear(in_features=784, out_features=512, bias=True)\n",
      "    (1): ReLU()\n",
      "    (2): Linear(in_features=512, out_features=512, bias=True)\n",
      "    (3): ReLU()\n",
      "    (4): Linear(in_features=512, out_features=10, bias=True)\n",
      "  )\n",
      ")\n"
     ]
    }
   ],
   "source": [
    "# Get cpu or gpu for training\n",
    "device = (\n",
    "    \"cuda\"\n",
    "    if torch.cuda.is_available()\n",
    "    else \"cpu\"\n",
    ")\n",
    "print(f\"Using {device} device\")\n",
    "\n",
    "# Define model\n",
    "class NeuralNetwork(nn.Module):\n",
    "    def __init__(self):\n",
    "        super().__init__()\n",
    "        self.flatten = nn.Flatten()\n",
    "        self.linear_relu_stack = nn.Sequential( # defines sequential layers of the network\n",
    "            nn.Linear(28*28, 512),\n",
    "            nn.ReLU(),\n",
    "            nn.Linear(512, 512),\n",
    "            nn.ReLU(),\n",
    "            nn.Linear(512, 10),\n",
    "        ) \n",
    "    def forward(self, x): # specify how data passes through network\n",
    "        x = self.flatten(x)\n",
    "        logits = self.linear_relu_stack(x) # logits = vector of non-normalized predictions\n",
    "        return logits\n",
    "\n",
    "model = NeuralNetwork().to(device)\n",
    "print(model)"
   ]
  },
  {
   "attachments": {},
   "cell_type": "markdown",
   "metadata": {},
   "source": [
    "Optimize parameters"
   ]
  },
  {
   "cell_type": "code",
   "execution_count": 5,
   "metadata": {},
   "outputs": [],
   "source": [
    "loss_fn = nn.CrossEntropyLoss()\n",
    "optimizer = torch.optim.SGD(model.parameters(), lr=1e-3)"
   ]
  },
  {
   "attachments": {},
   "cell_type": "markdown",
   "metadata": {},
   "source": [
    "Training and testing functions"
   ]
  },
  {
   "cell_type": "code",
   "execution_count": 7,
   "metadata": {},
   "outputs": [],
   "source": [
    "def train(dataloader, model, loss_fn, optimizer):\n",
    "    size = len(dataloader.dataset)\n",
    "    model.train()\n",
    "    for batch, (X, y) in enumerate(dataloader):\n",
    "        X, y = X.to(device), y.to(device)\n",
    "\n",
    "        # Compute prediction error\n",
    "        pred = model(X)\n",
    "        loss = loss_fn(pred, y)\n",
    "\n",
    "        # Backpropagation\n",
    "        loss.backward()\n",
    "        optimizer.step()\n",
    "        optimizer.zero_grad()\n",
    "\n",
    "        if batch % 100 == 0:\n",
    "            loss, current = loss.item(), (batch+1)*len(X)\n",
    "            print(f\"loss: {loss:>7f} [{current:>5d}/{size:>5d}]\")\n",
    "\n",
    "def test(dataloader, model, loss_fn):\n",
    "    size = len(dataloader.dataset)\n",
    "    num_batches = len(dataloader)\n",
    "    model.eval()\n",
    "    test_loss, correct = 0, 0\n",
    "\n",
    "    with torch.no_grad():\n",
    "        for X, y in dataloader:\n",
    "            X, y = X.to(device), y.to(device)\n",
    "            pred = model(X)\n",
    "            test_loss += loss_fn(pred, y).item()\n",
    "            correct += (pred.argmax(1) == y).type(torch.float).sum().item()\n",
    "    \n",
    "    test_loss /= num_batches\n",
    "    correct /= size\n",
    "    print(f\"Test error: \\n Accuracy: {(100*correct):>0.1f}%, Avg loss: {test_loss:>8f} \\n\")"
   ]
  },
  {
   "attachments": {},
   "cell_type": "markdown",
   "metadata": {},
   "source": [
    "Train"
   ]
  },
  {
   "cell_type": "code",
   "execution_count": 11,
   "metadata": {},
   "outputs": [
    {
     "name": "stdout",
     "output_type": "stream",
     "text": [
      "Epoch 1\n",
      "------------------------\n",
      "loss: 2.298479 [   64/60000]\n",
      "loss: 2.291866 [ 6464/60000]\n",
      "loss: 2.268004 [12864/60000]\n",
      "loss: 2.261273 [19264/60000]\n",
      "loss: 2.253899 [25664/60000]\n",
      "loss: 2.202819 [32064/60000]\n",
      "loss: 2.226860 [38464/60000]\n",
      "loss: 2.187982 [44864/60000]\n",
      "loss: 2.185806 [51264/60000]\n",
      "loss: 2.154057 [57664/60000]\n",
      "Test error: \n",
      " Accuracy: 33.7%, Avg loss: 2.148326 \n",
      "\n",
      "Epoch 2\n",
      "------------------------\n",
      "loss: 2.165968 [   64/60000]\n",
      "loss: 2.158244 [ 6464/60000]\n",
      "loss: 2.098618 [12864/60000]\n",
      "loss: 2.110306 [19264/60000]\n",
      "loss: 2.073918 [25664/60000]\n",
      "loss: 1.999847 [32064/60000]\n",
      "loss: 2.034452 [38464/60000]\n",
      "loss: 1.961284 [44864/60000]\n",
      "loss: 1.963037 [51264/60000]\n",
      "loss: 1.887492 [57664/60000]\n",
      "Test error: \n",
      " Accuracy: 58.6%, Avg loss: 1.886786 \n",
      "\n",
      "Epoch 3\n",
      "------------------------\n",
      "loss: 1.931575 [   64/60000]\n",
      "loss: 1.898049 [ 6464/60000]\n",
      "loss: 1.780137 [12864/60000]\n",
      "loss: 1.811808 [19264/60000]\n",
      "loss: 1.718201 [25664/60000]\n",
      "loss: 1.662931 [32064/60000]\n",
      "loss: 1.679873 [38464/60000]\n",
      "loss: 1.593451 [44864/60000]\n",
      "loss: 1.609841 [51264/60000]\n",
      "loss: 1.496081 [57664/60000]\n",
      "Test error: \n",
      " Accuracy: 60.0%, Avg loss: 1.518599 \n",
      "\n",
      "Epoch 4\n",
      "------------------------\n",
      "loss: 1.596645 [   64/60000]\n",
      "loss: 1.556802 [ 6464/60000]\n",
      "loss: 1.407612 [12864/60000]\n",
      "loss: 1.470787 [19264/60000]\n",
      "loss: 1.361392 [25664/60000]\n",
      "loss: 1.353225 [32064/60000]\n",
      "loss: 1.359408 [38464/60000]\n",
      "loss: 1.299512 [44864/60000]\n",
      "loss: 1.326262 [51264/60000]\n",
      "loss: 1.217541 [57664/60000]\n",
      "Test error: \n",
      " Accuracy: 62.6%, Avg loss: 1.252027 \n",
      "\n",
      "Epoch 5\n",
      "------------------------\n",
      "loss: 1.336766 [   64/60000]\n",
      "loss: 1.314633 [ 6464/60000]\n",
      "loss: 1.152942 [12864/60000]\n",
      "loss: 1.252348 [19264/60000]\n",
      "loss: 1.130724 [25664/60000]\n",
      "loss: 1.155251 [32064/60000]\n",
      "loss: 1.165759 [38464/60000]\n",
      "loss: 1.119077 [44864/60000]\n",
      "loss: 1.152054 [51264/60000]\n",
      "loss: 1.058663 [57664/60000]\n",
      "Test error: \n",
      " Accuracy: 64.3%, Avg loss: 1.088937 \n",
      "\n",
      "Finished\n"
     ]
    }
   ],
   "source": [
    "epochs = 5\n",
    "for t in range(epochs):\n",
    "    print(f\"Epoch {t+1}\\n------------------------\")\n",
    "    train(train_dataloader, model, loss_fn, optimizer)\n",
    "    test(test_dataloader, model, loss_fn)\n",
    "print(\"Finished\")"
   ]
  },
  {
   "attachments": {},
   "cell_type": "markdown",
   "metadata": {},
   "source": [
    "Save the model"
   ]
  },
  {
   "cell_type": "code",
   "execution_count": 12,
   "metadata": {},
   "outputs": [
    {
     "name": "stdout",
     "output_type": "stream",
     "text": [
      "Saved model state to model.pth\n"
     ]
    }
   ],
   "source": [
    "torch.save(model.state_dict(),\"model.pth\")\n",
    "print(\"Saved model state to model.pth\")"
   ]
  },
  {
   "attachments": {},
   "cell_type": "markdown",
   "metadata": {},
   "source": [
    "Load the model"
   ]
  },
  {
   "cell_type": "code",
   "execution_count": 13,
   "metadata": {},
   "outputs": [
    {
     "data": {
      "text/plain": [
       "<All keys matched successfully>"
      ]
     },
     "execution_count": 13,
     "metadata": {},
     "output_type": "execute_result"
    }
   ],
   "source": [
    "model = NeuralNetwork().to(device)\n",
    "model.load_state_dict(torch.load(\"model.pth\"))"
   ]
  },
  {
   "attachments": {},
   "cell_type": "markdown",
   "metadata": {},
   "source": [
    "Predict"
   ]
  },
  {
   "cell_type": "code",
   "execution_count": 14,
   "metadata": {},
   "outputs": [
    {
     "name": "stdout",
     "output_type": "stream",
     "text": [
      "Predicted: \"Ankle boot\", Actual: \"Ankle boot\"\n"
     ]
    }
   ],
   "source": [
    "classes = [\n",
    "    \"T-shirt/top\",\n",
    "    \"Trouser\",\n",
    "    \"Pullover\",\n",
    "    \"Dress\",\n",
    "    \"Coat\",\n",
    "    \"Sandal\",\n",
    "    \"Shirt\",\n",
    "    \"Sneaker\",\n",
    "    \"Bag\",\n",
    "    \"Ankle boot\",\n",
    "]\n",
    "\n",
    "model.eval()\n",
    "x, y = test_data[0][0], test_data[0][1]\n",
    "with torch.no_grad():\n",
    "    x = x.to(device)\n",
    "    pred = model(x)\n",
    "    predicted, actual = classes[pred[0].argmax(0)], classes[y]\n",
    "    print(f'Predicted: \"{predicted}\", Actual: \"{actual}\"')"
   ]
  },
  {
   "attachments": {},
   "cell_type": "markdown",
   "metadata": {},
   "source": [
    "__Tensors__"
   ]
  },
  {
   "cell_type": "code",
   "execution_count": 8,
   "metadata": {},
   "outputs": [],
   "source": [
    "import numpy as np\n",
    "import torch"
   ]
  },
  {
   "cell_type": "code",
   "execution_count": 13,
   "metadata": {},
   "outputs": [
    {
     "name": "stdout",
     "output_type": "stream",
     "text": [
      "tensor([[1, 2],\n",
      "        [4, 5],\n",
      "        [7, 8]], dtype=torch.int32)\n"
     ]
    }
   ],
   "source": [
    "# create tensor from existing data (list or numpy array)\n",
    "data = [[1, 2], [4, 5], [7, 8]]\n",
    "x_data = torch.tensor(data)\n",
    "\n",
    "np_data = np.array(data)\n",
    "x_data = torch.from_numpy(np_data)\n",
    "print(x_data)"
   ]
  },
  {
   "cell_type": "code",
   "execution_count": 14,
   "metadata": {},
   "outputs": [
    {
     "name": "stdout",
     "output_type": "stream",
     "text": [
      "tensor([[[0.9915, 0.7887],\n",
      "         [0.6513, 0.8945],\n",
      "         [0.0098, 0.6537]],\n",
      "\n",
      "        [[0.1918, 0.7861],\n",
      "         [0.1516, 0.0020],\n",
      "         [0.0745, 0.9985]],\n",
      "\n",
      "        [[0.4854, 0.6659],\n",
      "         [0.1889, 0.4116],\n",
      "         [0.5352, 0.3825]],\n",
      "\n",
      "        [[0.9248, 0.8526],\n",
      "         [0.0117, 0.2422],\n",
      "         [0.5251, 0.8081]]])\n",
      "torch.Size([4, 3, 2])\n",
      "torch.float32\n",
      "cpu\n"
     ]
    }
   ],
   "source": [
    "shape = (4,3,2,)\n",
    "rand_tensor = torch.rand(shape)\n",
    "ones_tensor = torch.ones(shape)\n",
    "zeros_tensor = torch.zeros(shape)\n",
    "\n",
    "print(rand_tensor)\n",
    "# tensor attributes\n",
    "print(rand_tensor.shape) \n",
    "print(rand_tensor.dtype)\n",
    "print(rand_tensor.device) # move from CPU to GPU using rand_tensor.to(\"cuda\")"
   ]
  },
  {
   "attachments": {},
   "cell_type": "markdown",
   "metadata": {},
   "source": [
    "Indexing and slicing tensors"
   ]
  },
  {
   "cell_type": "code",
   "execution_count": 15,
   "metadata": {},
   "outputs": [
    {
     "name": "stdout",
     "output_type": "stream",
     "text": [
      "tensor([[[0.9915, 0.7887],\n",
      "         [0.6513, 0.8945],\n",
      "         [0.0098, 0.6537]],\n",
      "\n",
      "        [[0.1918, 0.7861],\n",
      "         [0.1516, 0.0020],\n",
      "         [0.0745, 0.9985]],\n",
      "\n",
      "        [[0.4854, 0.6659],\n",
      "         [0.1889, 0.4116],\n",
      "         [0.5352, 0.3825]],\n",
      "\n",
      "        [[0.9248, 0.8526],\n",
      "         [0.0117, 0.2422],\n",
      "         [0.5251, 0.8081]]])\n",
      "First element:tensor([[0.9915, 0.7887],\n",
      "        [0.6513, 0.8945],\n",
      "        [0.0098, 0.6537]])\n",
      "First row of all elements:tensor([[0.9915, 0.7887],\n",
      "        [0.1918, 0.7861],\n",
      "        [0.4854, 0.6659],\n",
      "        [0.9248, 0.8526]])\n",
      "Last column of all elements:tensor([[0.7887, 0.8945, 0.6537],\n",
      "        [0.7861, 0.0020, 0.9985],\n",
      "        [0.6659, 0.4116, 0.3825],\n",
      "        [0.8526, 0.2422, 0.8081]])\n"
     ]
    }
   ],
   "source": [
    "print(rand_tensor)\n",
    "print(f\"First element:{rand_tensor[0]}\")\n",
    "print(f\"First row of all elements:{rand_tensor[:,0]}\")\n",
    "print(f\"Last column of all elements:{rand_tensor[...,-1]}\")"
   ]
  },
  {
   "cell_type": "code",
   "execution_count": 17,
   "metadata": {},
   "outputs": [
    {
     "name": "stdout",
     "output_type": "stream",
     "text": [
      "tensor([[[0.9915, 0.7887],\n",
      "         [0.6513, 0.8945],\n",
      "         [0.0098, 0.6537],\n",
      "         [1.0000, 1.0000],\n",
      "         [0.0000, 0.0000],\n",
      "         [1.0000, 1.0000]],\n",
      "\n",
      "        [[0.1918, 0.7861],\n",
      "         [0.1516, 0.0020],\n",
      "         [0.0745, 0.9985],\n",
      "         [1.0000, 1.0000],\n",
      "         [0.0000, 0.0000],\n",
      "         [1.0000, 1.0000]],\n",
      "\n",
      "        [[0.4854, 0.6659],\n",
      "         [0.1889, 0.4116],\n",
      "         [0.5352, 0.3825],\n",
      "         [1.0000, 1.0000],\n",
      "         [0.0000, 0.0000],\n",
      "         [1.0000, 1.0000]],\n",
      "\n",
      "        [[0.9248, 0.8526],\n",
      "         [0.0117, 0.2422],\n",
      "         [0.5251, 0.8081],\n",
      "         [1.0000, 1.0000],\n",
      "         [0.0000, 0.0000],\n",
      "         [1.0000, 1.0000]]])\n",
      "tensor([[[0.9915, 0.7887, 1.0000, 1.0000],\n",
      "         [0.6513, 0.8945, 0.0000, 0.0000],\n",
      "         [0.0098, 0.6537, 1.0000, 1.0000]],\n",
      "\n",
      "        [[0.1918, 0.7861, 1.0000, 1.0000],\n",
      "         [0.1516, 0.0020, 0.0000, 0.0000],\n",
      "         [0.0745, 0.9985, 1.0000, 1.0000]],\n",
      "\n",
      "        [[0.4854, 0.6659, 1.0000, 1.0000],\n",
      "         [0.1889, 0.4116, 0.0000, 0.0000],\n",
      "         [0.5352, 0.3825, 1.0000, 1.0000]],\n",
      "\n",
      "        [[0.9248, 0.8526, 1.0000, 1.0000],\n",
      "         [0.0117, 0.2422, 0.0000, 0.0000],\n",
      "         [0.5251, 0.8081, 1.0000, 1.0000]]])\n"
     ]
    }
   ],
   "source": [
    "# concatenate tensors\n",
    "t1 = torch.cat([rand_tensor,ones_tensor], dim=1)\n",
    "print(t1)\n",
    "\n",
    "t2 = torch.cat([rand_tensor,ones_tensor], dim=2)\n",
    "print(t2)"
   ]
  },
  {
   "attachments": {},
   "cell_type": "markdown",
   "metadata": {},
   "source": [
    "Tensor arithmetic"
   ]
  },
  {
   "cell_type": "code",
   "execution_count": 19,
   "metadata": {},
   "outputs": [
    {
     "name": "stdout",
     "output_type": "stream",
     "text": [
      "tensor([[[1.7801, 0.0000, 1.7801],\n",
      "         [1.5457, 0.0000, 1.5457],\n",
      "         [0.6635, 0.0000, 0.6635]],\n",
      "\n",
      "        [[0.9779, 0.0000, 0.9779],\n",
      "         [0.1537, 0.0000, 0.1537],\n",
      "         [1.0730, 0.0000, 1.0730]],\n",
      "\n",
      "        [[1.1513, 0.0000, 1.1513],\n",
      "         [0.6005, 0.0000, 0.6005],\n",
      "         [0.9177, 0.0000, 0.9177]],\n",
      "\n",
      "        [[1.7774, 0.0000, 1.7774],\n",
      "         [0.2539, 0.0000, 0.2539],\n",
      "         [1.3333, 0.0000, 1.3333]]])\n"
     ]
    }
   ],
   "source": [
    "# multiply tensors\n",
    "ones_tensor[:,1] = 0\n",
    "\n",
    "print(rand_tensor @ ones_tensor.mT)"
   ]
  },
  {
   "cell_type": "code",
   "execution_count": 20,
   "metadata": {},
   "outputs": [
    {
     "name": "stdout",
     "output_type": "stream",
     "text": [
      "tensor([[[0.6976, 0.2855],\n",
      "         [0.0762, 0.9661],\n",
      "         [0.3598, 0.3937]],\n",
      "\n",
      "        [[0.7288, 0.5750],\n",
      "         [0.7506, 0.9589],\n",
      "         [0.7586, 0.1793]],\n",
      "\n",
      "        [[0.7904, 0.6025],\n",
      "         [0.2316, 0.6910],\n",
      "         [0.1277, 0.3827]],\n",
      "\n",
      "        [[0.0856, 0.0774],\n",
      "         [0.5020, 0.3478],\n",
      "         [0.3454, 0.4056]]])\n"
     ]
    }
   ],
   "source": [
    "like_tensor = torch.rand_like(ones_tensor)\n",
    "print(like_tensor)"
   ]
  }
 ],
 "metadata": {
  "kernelspec": {
   "display_name": "Python 3",
   "language": "python",
   "name": "python3"
  },
  "language_info": {
   "codemirror_mode": {
    "name": "ipython",
    "version": 3
   },
   "file_extension": ".py",
   "mimetype": "text/x-python",
   "name": "python",
   "nbconvert_exporter": "python",
   "pygments_lexer": "ipython3",
   "version": "3.10.9"
  },
  "orig_nbformat": 4
 },
 "nbformat": 4,
 "nbformat_minor": 2
}
