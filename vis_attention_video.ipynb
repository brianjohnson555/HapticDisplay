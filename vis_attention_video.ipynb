{
 "cells": [
  {
   "attachments": {},
   "cell_type": "markdown",
   "metadata": {},
   "source": [
    "__Visualized Transformer Attention with DINO__"
   ]
  },
  {
   "attachments": {},
   "cell_type": "markdown",
   "metadata": {},
   "source": [
    "Import libraries"
   ]
  },
  {
   "cell_type": "code",
   "execution_count": 1,
   "metadata": {},
   "outputs": [],
   "source": [
    "%load_ext autoreload\n",
    "%autoreload 2"
   ]
  },
  {
   "cell_type": "code",
   "execution_count": 82,
   "metadata": {},
   "outputs": [],
   "source": [
    "import os\n",
    "import torch\n",
    "import torch.nn as nn\n",
    "import torchvision\n",
    "from torchvision import transforms\n",
    "import numpy as np\n",
    "import timm\n",
    "import dino\n",
    "import matplotlib.pyplot as plt\n",
    "from PIL import Image\n",
    "import cv2\n",
    "import time\n",
    "import urllib.request\n",
    "\n",
    "device = torch.device(\"cpu\")"
   ]
  },
  {
   "attachments": {},
   "cell_type": "markdown",
   "metadata": {},
   "source": [
    "Load ViT Model"
   ]
  },
  {
   "cell_type": "code",
   "execution_count": 61,
   "metadata": {},
   "outputs": [
    {
     "name": "stderr",
     "output_type": "stream",
     "text": [
      "Using cache found in C:\\Users\\bjohnson/.cache\\torch\\hub\\facebookresearch_dino_main\n"
     ]
    }
   ],
   "source": [
    "#model = timm.create_model('vit_small_patch16_224_dino',pretrained=True)\n",
    "model = torch.hub.load('facebookresearch/dino:main','dino_vits16')"
   ]
  },
  {
   "attachments": {},
   "cell_type": "markdown",
   "metadata": {},
   "source": [
    "Visualize attention"
   ]
  },
  {
   "attachments": {},
   "cell_type": "markdown",
   "metadata": {},
   "source": [
    "Load image:"
   ]
  },
  {
   "cell_type": "code",
   "execution_count": 110,
   "metadata": {},
   "outputs": [
    {
     "name": "stdout",
     "output_type": "stream",
     "text": [
      "torch.Size([1, 3, 800, 800])\n"
     ]
    }
   ],
   "source": [
    "# Setup frame capture\n",
    "cap = cv2.VideoCapture('video2.mp4') #use video\n",
    "# cap = cv2.VideoCapture(0) #stream from webcam\n",
    "previous_frame = None\n",
    "\n",
    "image = Image.open(\"img2.jpg\")\n",
    "Tx = transforms.Resize((800,800))(image)\n",
    "Tx2 = transforms.ToTensor()(Tx).unsqueeze_(0)\n",
    "Tx3 = transforms.Normalize(mean=[0.485, 0.456, 0.406], std=[0.229, 0.224, 0.225])(Tx2)\n",
    "Tx3.requires_grad = True\n",
    "\n",
    "print(Tx3.shape)"
   ]
  },
  {
   "attachments": {},
   "cell_type": "markdown",
   "metadata": {},
   "source": [
    "Feed network"
   ]
  },
  {
   "cell_type": "code",
   "execution_count": 111,
   "metadata": {},
   "outputs": [
    {
     "name": "stdout",
     "output_type": "stream",
     "text": [
      "torch.Size([1, 3, 800, 800])\n",
      "torch.Size([1, 6, 2501, 2501])\n",
      "torch.Size([6, 2500])\n"
     ]
    }
   ],
   "source": [
    "model.eval()\n",
    "model.to(device)\n",
    "\n",
    "attentions = model.get_last_selfattention(Tx3)\n",
    "\n",
    "\n",
    "print(Tx3.shape)\n",
    "print(attentions.shape)\n",
    "\n",
    "nh = attentions.shape[1]\n",
    "attentions = attentions[0, :, 0, 1:].reshape(nh,-1)\n",
    "print(attentions.shape)\n",
    "\n",
    "val, idx = torch.sort(attentions)\n",
    "val /= torch.sum(val, dim=1, keepdim=True)\n",
    "cumval = torch.cumsum(val, dim=1)\n",
    "\n",
    "patch_size = 8\n",
    "\n",
    "w_featmap = Tx3.shape[-2] // patch_size\n",
    "h_featmap = Tx3.shape[-1] // patch_size\n",
    "\n",
    "threshold = 0.6 # We visualize masks obtained by thresholding the self-attention maps to keep xx% of the mass.\n",
    "th_attn = cumval > (1 - threshold)\n",
    "idx2 = torch.argsort(idx)\n",
    "for head in range(nh):\n",
    "    th_attn[head] = th_attn[head][idx2[head]]\n",
    "    \n",
    "th_attn = th_attn.reshape(nh, w_featmap//2, h_featmap//2).float()\n",
    "\n",
    "# interpolate\n",
    "th_attn = nn.functional.interpolate(th_attn.unsqueeze(0), scale_factor=patch_size, mode=\"nearest\")[0].detach().numpy()\n",
    "\n",
    "attentions = attentions.reshape(nh, w_featmap//2, h_featmap//2)\n",
    "attentions = nn.functional.interpolate(attentions.unsqueeze(0), scale_factor=patch_size, mode=\"nearest\")[0].detach().numpy()\n",
    "attentions_mean = np.mean(attentions, axis=0)\n"
   ]
  },
  {
   "cell_type": "code",
   "execution_count": 112,
   "metadata": {},
   "outputs": [
    {
     "data": {
      "text/plain": [
       "<matplotlib.image.AxesImage at 0x20214d9fa60>"
      ]
     },
     "execution_count": 112,
     "metadata": {},
     "output_type": "execute_result"
    },
    {
     "data": {
      "image/png": "[encoded data removed]",
      "text/plain": [
       "<Figure size 640x480 with 1 Axes>"
      ]
     },
     "metadata": {},
     "output_type": "display_data"
    }
   ],
   "source": [
    "plt.imshow(attentions_mean)"
   ]
  },
  {
   "cell_type": "code",
   "execution_count": null,
   "metadata": {},
   "outputs": [],
   "source": [
    "  \n",
    "while True: \n",
    "    # Load frame\n",
    "    ret,img = cap.read()\n",
    "    img = cv2.cvtColor(img, cv2.COLOR_BGR2RGB)\n",
    "    img = cv2.addWeighted(img,1.5,img,0,1)\n",
    "\n",
    "    # Compute depth\n",
    "    input_batch = transform(img).to(device)\n",
    "    with torch.no_grad():\n",
    "        prediction = midas(input_batch)\n",
    "\n",
    "        prediction = torch.nn.functional.interpolate(\n",
    "            prediction.unsqueeze(1),\n",
    "            size=(120, 160),\n",
    "            mode=\"bicubic\",\n",
    "            align_corners=False,\n",
    "        ).squeeze()\n",
    "    output = prediction.cpu().numpy()\n",
    "    depth = cv2.normalize(output, None, 0, 1, norm_type=cv2.NORM_MINMAX, dtype = cv2.CV_64F)\n",
    "    #depth = (depth).astype(np.uint8)\n",
    "\n",
    "    if (previous_frame is None):\n",
    "        # First frame; there is no previous one yet\n",
    "        previous_frame = img\n",
    "        continue\n",
    "    # calculate difference and update previous frame\n",
    "    diff_frame = cv2.absdiff(src1=previous_frame, src2=img)\n",
    "    previous_frame = img\n",
    "    # 4. Dilute the image a bit to make differences more seeable; more suitable for contour detection\n",
    "    kernel = np.ones((5, 5))\n",
    "    diff_frame = cv2.dilate(diff_frame, kernel, 1)\n",
    "    # 5. Only take different areas that are different enough (>20 / 255)\n",
    "    thresh_frame = cv2.threshold(src=diff_frame, thresh=100, maxval=255, type=cv2.THRESH_BINARY)[1]\n",
    "    im = cv2.cvtColor(thresh_frame, cv2.COLOR_BGR2GRAY)\n",
    "    contours, _ = cv2.findContours(image=im, mode=cv2.RETR_EXTERNAL, method=cv2.CHAIN_APPROX_SIMPLE)\n",
    "\n",
    "    mini = cv2.resize(depth, (6,4), interpolation = cv2.INTER_AREA)\n",
    "    # Show frames\n",
    "    cv2.namedWindow('Video',cv2.WINDOW_KEEPRATIO)\n",
    "    cv2.imshow('Video',img)\n",
    "    # cv2.namedWindow('Contrast',cv2.WINDOW_KEEPRATIO)\n",
    "    # cv2.imshow('Contrast',img2)\n",
    "    cv2.namedWindow('Mini',cv2.WINDOW_KEEPRATIO)\n",
    "    cv2.imshow('Mini',depth)\n",
    "    #cv2.drawContours(image=img, contours=contours, contourIdx=-1, color=(0, 255, 0), thickness=2, lineType=cv2.LINE_AA)\n",
    "    #cv2.imshow('thresh',thresh_frame)\n",
    "    \n",
    "    if(cv2.waitKey(10) & 0xFF == ord('b')):\n",
    "        break"
   ]
  }
 ],
 "metadata": {
  "kernelspec": {
   "display_name": "Python 3",
   "language": "python",
   "name": "python3"
  },
  "language_info": {
   "codemirror_mode": {
    "name": "ipython",
    "version": 3
   },
   "file_extension": ".py",
   "mimetype": "text/x-python",
   "name": "python",
   "nbconvert_exporter": "python",
   "pygments_lexer": "ipython3",
   "version": "3.10.9"
  },
  "orig_nbformat": 4
 },
 "nbformat": 4,
 "nbformat_minor": 2
}
