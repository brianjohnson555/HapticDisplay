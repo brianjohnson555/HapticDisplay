{
 "cells": [
  {
   "attachments": {},
   "cell_type": "markdown",
   "metadata": {},
   "source": [
    "__Visualized Transformer Attention with DINO__"
   ]
  },
  {
   "attachments": {},
   "cell_type": "markdown",
   "metadata": {},
   "source": [
    "Import libraries"
   ]
  },
  {
   "cell_type": "code",
   "execution_count": 1,
   "metadata": {},
   "outputs": [],
   "source": [
    "%load_ext autoreload\n",
    "%autoreload 2"
   ]
  },
  {
   "cell_type": "code",
   "execution_count": 2,
   "metadata": {},
   "outputs": [
    {
     "name": "stderr",
     "output_type": "stream",
     "text": [
      "c:\\Users\\bjohnson\\AppData\\Local\\Programs\\Python\\Python310\\lib\\site-packages\\tqdm\\auto.py:21: TqdmWarning: IProgress not found. Please update jupyter and ipywidgets. See https://ipywidgets.readthedocs.io/en/stable/user_install.html\n",
      "  from .autonotebook import tqdm as notebook_tqdm\n"
     ]
    }
   ],
   "source": [
    "import os\n",
    "import torch\n",
    "import torch.nn as nn\n",
    "import torchvision\n",
    "from torchvision import transforms\n",
    "import numpy as np\n",
    "import timm\n",
    "import dino\n",
    "import matplotlib.pyplot as plt\n",
    "import matplotlib.animation as animation\n",
    "from PIL import Image\n",
    "import cv2\n",
    "import time\n",
    "import urllib.request\n",
    "import keyboard\n",
    "\n",
    "device = torch.device(\"cpu\")"
   ]
  },
  {
   "cell_type": "markdown",
   "metadata": {},
   "source": [
    "Desired resolution and haptic display parameters"
   ]
  },
  {
   "cell_type": "code",
   "execution_count": 171,
   "metadata": {},
   "outputs": [],
   "source": [
    "display_width = 10\n",
    "display_height = 6\n",
    "\n",
    "depth_width = 10*10\n",
    "depth_height = 10*6\n",
    "\n",
    "pre_attention_width = 10*10*16\n",
    "pre_attention_height = 10*6*16"
   ]
  },
  {
   "attachments": {},
   "cell_type": "markdown",
   "metadata": {},
   "source": [
    "Load ViT Model"
   ]
  },
  {
   "cell_type": "code",
   "execution_count": 172,
   "metadata": {},
   "outputs": [
    {
     "name": "stderr",
     "output_type": "stream",
     "text": [
      "Using cache found in C:\\Users\\bjohnson/.cache\\torch\\hub\\facebookresearch_dino_main\n",
      "Using cache found in C:\\Users\\bjohnson/.cache\\torch\\hub\\intel-isl_MiDaS_master\n"
     ]
    },
    {
     "name": "stdout",
     "output_type": "stream",
     "text": [
      "Loading weights:  None\n"
     ]
    },
    {
     "name": "stderr",
     "output_type": "stream",
     "text": [
      "Using cache found in C:\\Users\\bjohnson/.cache\\torch\\hub\\rwightman_gen-efficientnet-pytorch_master\n",
      "Using cache found in C:\\Users\\bjohnson/.cache\\torch\\hub\\intel-isl_MiDaS_master\n"
     ]
    }
   ],
   "source": [
    "#model = timm.create_model('vit_small_patch16_224_dino',pretrained=True)\n",
    "model = torch.hub.load('facebookresearch/dino:main','dino_vits16')\n",
    "\n",
    "\n",
    "# Load MiDaS model onto CPU\n",
    "device = torch.device('cpu')\n",
    "midas = torch.hub.load(\"intel-isl/MiDaS\",\"MiDaS_small\")\n",
    "midas.to(device)\n",
    "midas.eval()\n",
    "midas_transforms = torch.hub.load(\"intel-isl/MiDaS\", \"transforms\")\n",
    "transform = midas_transforms.small_transform"
   ]
  },
  {
   "cell_type": "code",
   "execution_count": 173,
   "metadata": {},
   "outputs": [],
   "source": [
    "# Setup frame capture\n",
    "cap = cv2.VideoCapture('video3.mp4') #use video\n",
    "# cap = cv2.VideoCapture(0) #stream from webcam\n",
    "previous_frame = None\n",
    "# Load frame\n",
    "for n in range(0,10):\n",
    "    ret= cap.grab()\n",
    "# if ret is False:\n",
    "#     break\n",
    "ret, img = cap.retrieve()\n",
    "img = cv2.cvtColor(img, cv2.COLOR_BGR2RGB)"
   ]
  },
  {
   "cell_type": "markdown",
   "metadata": {},
   "source": [
    "Compute depth"
   ]
  },
  {
   "cell_type": "code",
   "execution_count": 174,
   "metadata": {},
   "outputs": [
    {
     "name": "stdout",
     "output_type": "stream",
     "text": [
      "(60, 100)\n"
     ]
    },
    {
     "data": {
      "image/png": "[encoded data removed]",
      "text/plain": [
       "<Figure size 640x480 with 1 Axes>"
      ]
     },
     "metadata": {},
     "output_type": "display_data"
    }
   ],
   "source": [
    "# Compute depth\n",
    "input_batch = transform(img).to(device)\n",
    "with torch.no_grad():\n",
    "    prediction = midas(input_batch)\n",
    "\n",
    "    prediction = torch.nn.functional.interpolate(\n",
    "        prediction.unsqueeze(1),\n",
    "        size=(depth_height, depth_width),\n",
    "        mode=\"bicubic\",\n",
    "        align_corners=False,\n",
    "    ).squeeze()\n",
    "output = prediction.cpu().numpy()\n",
    "depth = cv2.normalize(output, None, 0, 1, norm_type=cv2.NORM_MINMAX, dtype = cv2.CV_64F)\n",
    "#depth = (depth).astype(np.uint8)\n",
    "\n",
    "figure = plt.figure()\n",
    "plt.imshow(depth)\n",
    "print(depth.shape)"
   ]
  },
  {
   "cell_type": "markdown",
   "metadata": {},
   "source": [
    "Pre-process image for attention"
   ]
  },
  {
   "cell_type": "code",
   "execution_count": 175,
   "metadata": {},
   "outputs": [
    {
     "name": "stdout",
     "output_type": "stream",
     "text": [
      "torch.Size([1, 3, 960, 1600])\n"
     ]
    }
   ],
   "source": [
    "attentions_list = []\n",
    "image = Image.fromarray(img)\n",
    "Tx = transforms.Resize((pre_attention_height, pre_attention_width))(image)\n",
    "Tx2 = transforms.ToTensor()(Tx).unsqueeze_(0) # converts to 3-dimension tensor (R, G, B)\n",
    "Tx3 = transforms.Normalize(mean=[0.485, 0.456, 0.406], std=[0.229, 0.224, 0.225])(Tx2)\n",
    "Tx3.requires_grad = True\n",
    "print(Tx3.shape)"
   ]
  },
  {
   "cell_type": "markdown",
   "metadata": {},
   "source": [
    "Get self attention"
   ]
  },
  {
   "cell_type": "code",
   "execution_count": 176,
   "metadata": {},
   "outputs": [
    {
     "name": "stdout",
     "output_type": "stream",
     "text": [
      "torch.Size([1, 6, 6001, 6001])\n",
      "torch.Size([6, 6000])\n",
      "60\n",
      "1600\n",
      "100\n",
      "torch.Size([6, 6000])\n",
      "torch.Size([6, 60, 100])\n",
      "(6, 60, 100)\n",
      "(60, 100)\n"
     ]
    }
   ],
   "source": [
    "model.eval()\n",
    "model.to(device)\n",
    "# start_time = time.time()\n",
    "attentions = model.get_last_selfattention(Tx3)\n",
    "# print(\"--- %s seconds ---\" % (time.time() - start_time))\n",
    "\n",
    "nh = attentions.shape[1]\n",
    "print(attentions.shape)\n",
    "attentions = attentions[0, :, 3, 1:].reshape(nh,-1)\n",
    "print(attentions.shape)\n",
    "patch_size = 16\n",
    "w_featmap = Tx3.shape[-2] // patch_size\n",
    "h_featmap = Tx3.shape[-1] // patch_size\n",
    "print(w_featmap)\n",
    "print(Tx3.shape[-1])\n",
    "print(h_featmap)\n",
    "\n",
    "# interpolate\n",
    "print(attentions.shape)\n",
    "attentions = attentions.reshape(nh, w_featmap, h_featmap)\n",
    "print(attentions.shape)\n",
    "attentions = nn.functional.interpolate(attentions.unsqueeze(0), scale_factor=1, mode=\"nearest\")[0].detach().numpy()\n",
    "print(attentions.shape)\n",
    "attentions_mean = np.mean(attentions, axis=0)\n",
    "attentions_list.append(attentions_mean)\n",
    "\n",
    "print(attentions_mean.shape)"
   ]
  },
  {
   "cell_type": "code",
   "execution_count": 177,
   "metadata": {},
   "outputs": [
    {
     "data": {
      "text/plain": [
       "<matplotlib.image.AxesImage at 0x2a30744b850>"
      ]
     },
     "execution_count": 177,
     "metadata": {},
     "output_type": "execute_result"
    },
    {
     "data": {
      "image/png": "[encoded data removed]",
      "text/plain": [
       "<Figure size 640x480 with 1 Axes>"
      ]
     },
     "metadata": {},
     "output_type": "display_data"
    }
   ],
   "source": [
    "ims = []\n",
    "figure = plt.figure()\n",
    "plt.imshow(attentions_mean)\n"
   ]
  }
 ],
 "metadata": {
  "kernelspec": {
   "display_name": "Python 3",
   "language": "python",
   "name": "python3"
  },
  "language_info": {
   "codemirror_mode": {
    "name": "ipython",
    "version": 3
   },
   "file_extension": ".py",
   "mimetype": "text/x-python",
   "name": "python",
   "nbconvert_exporter": "python",
   "pygments_lexer": "ipython3",
   "version": "3.10.9"
  },
  "orig_nbformat": 4
 },
 "nbformat": 4,
 "nbformat_minor": 2
}
