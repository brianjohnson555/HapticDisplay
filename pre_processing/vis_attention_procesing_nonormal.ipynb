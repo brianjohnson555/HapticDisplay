{
 "cells": [
  {
   "cell_type": "markdown",
   "metadata": {},
   "source": [
    "This is an experimental script to try out different normalization methods for the visual-haptic algorithm."
   ]
  },
  {
   "cell_type": "code",
   "execution_count": 12,
   "metadata": {},
   "outputs": [
    {
     "ename": "ModuleNotFoundError",
     "evalue": "No module named 'haptic_utils'",
     "output_type": "error",
     "traceback": [
      "\u001b[1;31m---------------------------------------------------------------------------\u001b[0m",
      "\u001b[1;31mModuleNotFoundError\u001b[0m                       Traceback (most recent call last)",
      "Cell \u001b[1;32mIn[12], line 28\u001b[0m\n\u001b[0;32m     26\u001b[0m \u001b[38;5;28;01mimport\u001b[39;00m \u001b[38;5;21;01msys\u001b[39;00m  \n\u001b[0;32m     27\u001b[0m sys\u001b[38;5;241m.\u001b[39mpath\u001b[38;5;241m.\u001b[39minsert(\u001b[38;5;241m1\u001b[39m, \u001b[38;5;124m'\u001b[39m\u001b[38;5;124m/haptic_utils\u001b[39m\u001b[38;5;124m'\u001b[39m)\n\u001b[1;32m---> 28\u001b[0m \u001b[38;5;28;01mimport\u001b[39;00m \u001b[38;5;21;01mhaptic_utils\u001b[39;00m\u001b[38;5;21;01m.\u001b[39;00m\u001b[38;5;21;01malgo_preprocessing\u001b[39;00m \u001b[38;5;28;01mas\u001b[39;00m \u001b[38;5;21;01malgo\u001b[39;00m\n",
      "\u001b[1;31mModuleNotFoundError\u001b[0m: No module named 'haptic_utils'"
     ]
    }
   ],
   "source": [
    "#!/usr/bin/env python3\n",
    "\n",
    "\"\"\"This script processes input video through the visual-haptic algorithm.\n",
    "\n",
    "NOTE: Work in progress!\"\"\"\n",
    "\n",
    "###### USER SETTINGS ######\n",
    "VIDEO = \"truck\" # pick video suffix from algo_input_videos/ folder\n",
    "RESOLUTION_ATT = 100 # resolution of get_attention for DINO model\n",
    "MODEL = 'hybrid' # MiDaS model type ('small', 'hybrid', 'large')\n",
    "THRESHOLD_VAL = 0.35 # threshold of attention+depth combination\n",
    "BIAS = 0.75 # bias towards attention for attention+depth combination\n",
    "SCALE = 4 # scaling of combined array (scale*[16, 9])\n",
    "DISPLAY_DIMS = (4,7) # HASEL haptic display dimensions, H x W (pixels)\n",
    "FRAME_SKIP = 5 # interval for how often to calculate algorithm (then interpolate between)\n",
    "FRAME_RATE = 30 # video frame rate (must check video properties!!)\n",
    "# note on FRAME_SKIP: only needed when you want fast processing time. Otherwise set to 0.\n",
    "DEVICE = \"cpu\"\n",
    "\n",
    "###### INITIALIZATIONS ######\n",
    "import matplotlib.pyplot as plt\n",
    "import torch\n",
    "import numpy as np\n",
    "import cv2\n",
    "import matplotlib.animation as animation\n",
    "import sys  \n",
    "sys.path.insert(1, '/haptic_utils/')\n",
    "import haptic_utils.algo_preprocessing as algo"
   ]
  },
  {
   "cell_type": "code",
   "execution_count": 2,
   "metadata": {},
   "outputs": [
    {
     "name": "stderr",
     "output_type": "stream",
     "text": [
      "Using cache found in C:\\Users\\tempu/.cache\\torch\\hub\\facebookresearch_dino_main\n",
      "Using cache found in C:\\Users\\tempu/.cache\\torch\\hub\\intel-isl_MiDaS_master\n",
      "c:\\Users\\tempu\\AppData\\Local\\Programs\\Python\\Python312\\Lib\\site-packages\\tqdm\\auto.py:21: TqdmWarning: IProgress not found. Please update jupyter and ipywidgets. See https://ipywidgets.readthedocs.io/en/stable/user_install.html\n",
      "  from .autonotebook import tqdm as notebook_tqdm\n",
      "c:\\Users\\tempu\\AppData\\Local\\Programs\\Python\\Python312\\Lib\\site-packages\\timm\\models\\_factory.py:117: UserWarning: Mapping deprecated model name vit_base_resnet50_384 to current vit_base_r50_s16_384.orig_in21k_ft_in1k.\n",
      "  model = create_fn(\n",
      "Using cache found in C:\\Users\\tempu/.cache\\torch\\hub\\intel-isl_MiDaS_master\n",
      "Using cache found in C:\\Users\\tempu/.cache\\torch\\hub\\intel-isl_MiDaS_master\n"
     ]
    },
    {
     "name": "stdout",
     "output_type": "stream",
     "text": [
      "Loading weights:  None\n"
     ]
    },
    {
     "name": "stderr",
     "output_type": "stream",
     "text": [
      "Using cache found in C:\\Users\\tempu/.cache\\torch\\hub\\rwightman_gen-efficientnet-pytorch_master\n",
      "Using cache found in C:\\Users\\tempu/.cache\\torch\\hub\\intel-isl_MiDaS_master\n"
     ]
    }
   ],
   "source": [
    "\n",
    "## Setting up torch device and model, video input\n",
    "device = torch.device(\"cpu\")\n",
    "dino8 = torch.hub.load('facebookresearch/dino:main','dino_vits8')\n",
    "dino8.to(device)\n",
    "dino8.eval()\n",
    "midas_h = torch.hub.load('intel-isl/MiDaS','DPT_Hybrid')\n",
    "midas_l = torch.hub.load('intel-isl/MiDaS','DPT_Large')\n",
    "midas_s = torch.hub.load('intel-isl/MiDaS','MiDaS_small')\n",
    "midas_transforms = torch.hub.load('intel-isl/MiDaS','transforms')\n",
    "midas_h.to(device)\n",
    "midas_h.eval()\n",
    "midas_l.to(device)\n",
    "midas_l.eval()\n",
    "midas_s.to(device)\n",
    "midas_s.eval()\n",
    "video = 'koi'\n",
    "cap = cv2.VideoCapture(\"algo_input_videos/video_\" + video + \".mp4\") #use video\n",
    "\n",
    "frame_num = 1\n",
    "output_list = []\n",
    "depth_list = []\n",
    "attention_list = []\n",
    "\n",
    "################## PARAMETERS ##################\n",
    "RESOLUTION_ATT = 100 # resolution of get_attention for DINO model\n",
    "MODEL = 'hybrid' # MiDaS model type ('small', 'hybrid', 'large')\n",
    "THRESHOLD_VAL = 0.35 # threshold of attention+depth combination\n",
    "BIAS = 0.75 # bias towards attention for attention+depth combination\n",
    "SCALE = 4 # scaling of combined array (scale*[16, 9])\n",
    "DISPLAY_W = 7 # HASEL haptic display width (pixels)\n",
    "DISPLAY_H = 4 # HASEL haptic display height (pixels)\n",
    "FRAME_SKIP = 5 # interval for how often to calculate algorithm (then interpolate between)"
   ]
  },
  {
   "cell_type": "code",
   "execution_count": 6,
   "metadata": {},
   "outputs": [],
   "source": [
    "\n",
    "################## FUNCTIONS ##################\n",
    "# Grab video frame (next frame if frame_num=1 or nth frame if =n)\n",
    "def grab_frame(source=cap):\n",
    "    ret = source.grab()\n",
    "    if ret is False: # if no data is available from the source, return Nones\n",
    "        return None\n",
    "    ret, frame = source.retrieve() # retrieve the desired frame from source\n",
    "    frame = cv2.cvtColor(frame, cv2.COLOR_BGR2RGB) # color conversion\n",
    "    return frame\n",
    "\n",
    "# Get self attention from video frame using DINO\n",
    "def get_attention(frame):\n",
    "    global RESOLUTION_ATT\n",
    "    transform1 = transforms.Compose([           \n",
    "                                transforms.Resize((RESOLUTION_ATT,int(np.floor(RESOLUTION_ATT*1.7777)))),\n",
    "                                # transforms.CenterCrop(resolution), #should be multiple of model patch_size                 \n",
    "                                transforms.ToTensor(),                    \n",
    "                                #transforms.Normalize(mean=0.5, std=0.2)\n",
    "                                ])\n",
    "    frame_t = transform1(frame).unsqueeze(0)\n",
    "    attentions = dino8.get_last_selfattention(frame_t)\n",
    "    nh = attentions.shape[1]\n",
    "    attentions = attentions[0, :, 0, 1:].reshape(nh,-1)\n",
    "    patch_size = 4\n",
    "    w_featmap = frame_t.shape[-2] // patch_size\n",
    "    h_featmap = frame_t.shape[-1] // patch_size\n",
    "\n",
    "    attentions = attentions.reshape(nh, w_featmap//2, h_featmap//2)\n",
    "    attentions = nn.functional.interpolate(attentions.unsqueeze(0), scale_factor=1, mode=\"nearest\")[0].detach().numpy()\n",
    "    attentions_mean = (np.mean(attentions, axis=0))\n",
    "    return attentions_mean\n",
    "\n",
    "# get depth estimation of frame using MiDaS\n",
    "def get_depth(img):\n",
    "    global MODEL\n",
    "    if MODEL == 'small':\n",
    "        frame = midas_transforms.small_transform(img) # use small image transform\n",
    "        depth_size_x = 256\n",
    "        depth = midas_s(frame) # evaluate using small model\n",
    "    else:\n",
    "        frame = midas_transforms.dpt_transform(img) # use DPT image transform\n",
    "        depth_size_x = 672\n",
    "        if MODEL == 'hybrid':\n",
    "            depth = midas_h(frame) # evaluate using hybrid model\n",
    "        else:\n",
    "            depth = midas_l(frame) # evaluate using large model\n",
    "\n",
    "    depth = depth.cpu().detach().numpy().squeeze(0)\n",
    "    \n",
    "    # remove normal depth gradient from depth map\n",
    "    # depth_nm = cv2.normalize(depth, None, 0, 1, norm_type=cv2.NORM_MINMAX, dtype = cv2.CV_64F)\n",
    "    xgrid = np.zeros(depth_size_x, dtype=float)\n",
    "    ygrid = depth.mean(axis=1) # make mean-depth-based gradient\n",
    "    grad_array = np.meshgrid(xgrid, ygrid)[1] # form gradient array w/ same size as depth\n",
    "    depth_sub = (depth - grad_array)\n",
    "    depth_sub = (depth_sub > 0) * depth_sub # take only positive values\n",
    "\n",
    "    return depth_sub\n",
    "\n",
    "# combine depth and attention maps together\n",
    "def get_combined(depth, attention, method='sum'):\n",
    "    global BIAS\n",
    "    global SCALE\n",
    "    depth_re = cv2.resize(depth, dsize=(16*SCALE, 9*SCALE), interpolation=cv2.INTER_CUBIC)\n",
    "    depth_nm = cv2.normalize(depth_re, None, 0, 1, norm_type=cv2.NORM_MINMAX, dtype = cv2.CV_64F)\n",
    "    attention_re = cv2.resize(attention, dsize=(16*SCALE, 9*SCALE), interpolation=cv2.INTER_CUBIC)\n",
    "    attention_nm = cv2.normalize(attention_re, None, 0, 1, norm_type=cv2.NORM_MINMAX, dtype = cv2.CV_64F)\n",
    "\n",
    "    if method=='multiply':\n",
    "        combined = depth_nm*attention_nm\n",
    "    elif method=='sum':\n",
    "        combined = ((1-BIAS)*depth_nm + (BIAS)*attention_nm)\n",
    "    combined = cv2.normalize(combined, None, 0, 1, norm_type=cv2.NORM_MINMAX, dtype=cv2.CV_64F)\n",
    "\n",
    "    return combined\n",
    "\n",
    "# threshold the combined map to threshold_val\n",
    "def get_threshold(combined):\n",
    "    global THRESHOLD_VAL\n",
    "    return (combined > THRESHOLD_VAL) * combined\n",
    "\n",
    "# downsample the thresholded map to the grid size of the haptic display\n",
    "def get_downsample(thresholded):\n",
    "    global DISPLAY_H\n",
    "    global DISPLAY_W\n",
    "    ### new code for interpolation:\n",
    "    downsampled = np.zeros((DISPLAY_H, DISPLAY_W))\n",
    "    interval_H = int(np.floor(thresholded.shape[0]/DISPLAY_H))\n",
    "    interval_W = int(np.floor(thresholded.shape[1]/DISPLAY_W))\n",
    "    for rr in range(0, DISPLAY_H):\n",
    "        for cc in range(0, DISPLAY_W):\n",
    "            frame_slice = thresholded[rr*interval_H:(rr+1)*interval_H, cc*interval_W:(cc+1)*interval_W]\n",
    "            mean_slice = np.mean(frame_slice)\n",
    "            std_slice = np.std(frame_slice)\n",
    "            max_slice = np.max(frame_slice)\n",
    "            if mean_slice+3*std_slice > max_slice: # I'm doing some weird selection of max vs. mean depending on std of the frame slice\n",
    "                downsampled[rr, cc] = max_slice\n",
    "            else:\n",
    "                downsampled[rr, cc] = mean_slice\n",
    "\n",
    "    return downsampled\n",
    "    ### original code for interpolation:\n",
    "    # return cv2.resize(thresholded, dsize=(DISPLAY_W, DISPLAY_H), interpolation=cv2.INTER_AREA) "
   ]
  },
  {
   "cell_type": "code",
   "execution_count": 7,
   "metadata": {},
   "outputs": [
    {
     "name": "stdout",
     "output_type": "stream",
     "text": [
      "Running...\n",
      "No more frames!\n",
      "Plotting...\n",
      "Finished!\n"
     ]
    }
   ],
   "source": [
    "print(\"Running...\")\n",
    "while frame_num<600: \n",
    "        # grab next frame from video\n",
    "        frame, img = grab_frame(cap)\n",
    "        if frame is None:\n",
    "            print(\"No more frames!\")\n",
    "            break # no more frames, finish loop\n",
    "        if frame_num%FRAME_SKIP==1: #### ONLY PROCESS EVERY x FRAMES!\n",
    "            # get frame attention\n",
    "            attention = get_attention(frame)\n",
    "            # get frame depth\n",
    "            depth = get_depth(img)\n",
    "            # combine depth and attention maps\n",
    "            combined = get_combined(depth, attention)\n",
    "            # threshold the combined frame\n",
    "            thresholded = get_threshold(combined)\n",
    "            # downsample to haptic display resolution\n",
    "            output = get_downsample(thresholded)\n",
    "\n",
    "            if output_list:\n",
    "                last_output = output_list[-1]\n",
    "                last_depth = depth_list[-1]\n",
    "                last_att = attention_list[-1]\n",
    "                for frame in range(1, FRAME_SKIP):\n",
    "                    interp_vec = np.zeros((DISPLAY_H, DISPLAY_W))\n",
    "                    interp_vec2 = np.zeros(depth.shape)\n",
    "                    interp_vec3 = np.zeros(attention.shape)\n",
    "                    for row in range(DISPLAY_H):\n",
    "                        for col in range(DISPLAY_W):\n",
    "                            interp_vec[row, col] = np.linspace(last_output[row, col], output[row, col], FRAME_SKIP+1)[frame]\n",
    "                            interp_vec2[row, col] = np.linspace(last_depth[row, col], depth[row, col], FRAME_SKIP+1)[frame]\n",
    "                            interp_vec3[row, col] = np.linspace(last_att[row, col], attention[row, col], FRAME_SKIP+1)[frame]\n",
    "                    output_list.append(interp_vec)\n",
    "                    depth_list.append(interp_vec2)\n",
    "                    attention_list.append(interp_vec3)\n",
    "\n",
    "            output_list.append(output)\n",
    "            depth_list.append(depth)\n",
    "            attention_list.append(attention)\n",
    "            print(len(output_list))\n",
    "\n",
    "        frame_num += 1\n",
    "\n",
    "print(\"Plotting...\")\n",
    "data_list = [output_list, depth_list, attention_list]\n",
    "\n",
    "print(\"Finished!\")"
   ]
  },
  {
   "cell_type": "code",
   "execution_count": 2,
   "metadata": {},
   "outputs": [
    {
     "name": "stderr",
     "output_type": "stream",
     "text": [
      "c:\\Users\\tempu\\AppData\\Local\\Programs\\Python\\Python312\\Lib\\site-packages\\numpy\\_core\\fromnumeric.py:3904: RuntimeWarning: Mean of empty slice.\n",
      "  return _methods._mean(a, axis=axis, dtype=dtype,\n",
      "c:\\Users\\tempu\\AppData\\Local\\Programs\\Python\\Python312\\Lib\\site-packages\\numpy\\_core\\_methods.py:147: RuntimeWarning: invalid value encountered in scalar divide\n",
      "  ret = ret.dtype.type(ret / rcount)\n",
      "c:\\Users\\tempu\\AppData\\Local\\Programs\\Python\\Python312\\Lib\\site-packages\\numpy\\_core\\_methods.py:227: RuntimeWarning: Degrees of freedom <= 0 for slice\n",
      "  ret = _var(a, axis=axis, dtype=dtype, out=out, ddof=ddof,\n",
      "c:\\Users\\tempu\\AppData\\Local\\Programs\\Python\\Python312\\Lib\\site-packages\\numpy\\_core\\_methods.py:184: RuntimeWarning: invalid value encountered in divide\n",
      "  arrmean = um.true_divide(arrmean, div, out=arrmean,\n",
      "c:\\Users\\tempu\\AppData\\Local\\Programs\\Python\\Python312\\Lib\\site-packages\\numpy\\_core\\_methods.py:219: RuntimeWarning: invalid value encountered in scalar divide\n",
      "  ret = ret.dtype.type(ret / rcount)\n"
     ]
    },
    {
     "ename": "ValueError",
     "evalue": "zero-size array to reduction operation maximum which has no identity",
     "output_type": "error",
     "traceback": [
      "\u001b[1;31m---------------------------------------------------------------------------\u001b[0m",
      "\u001b[1;31mValueError\u001b[0m                                Traceback (most recent call last)",
      "Cell \u001b[1;32mIn[2], line 4\u001b[0m\n\u001b[0;32m      2\u001b[0m flat \u001b[38;5;241m=\u001b[39m attention_np\u001b[38;5;241m.\u001b[39mflatten()\n\u001b[0;32m      3\u001b[0m nonzero \u001b[38;5;241m=\u001b[39m flat[flat\u001b[38;5;241m>\u001b[39m\u001b[38;5;241m1e-3\u001b[39m]\n\u001b[1;32m----> 4\u001b[0m \u001b[38;5;28mprint\u001b[39m(np\u001b[38;5;241m.\u001b[39mmean(flat), np\u001b[38;5;241m.\u001b[39mstd(flat), np\u001b[38;5;241m.\u001b[39mmedian(flat), \u001b[43mnp\u001b[49m\u001b[38;5;241;43m.\u001b[39;49m\u001b[43mmax\u001b[49m\u001b[43m(\u001b[49m\u001b[43mflat\u001b[49m\u001b[43m)\u001b[49m, np\u001b[38;5;241m.\u001b[39mmin(flat))\n\u001b[0;32m      5\u001b[0m \u001b[38;5;28mprint\u001b[39m(np\u001b[38;5;241m.\u001b[39mmean(nonzero), np\u001b[38;5;241m.\u001b[39mstd(nonzero), np\u001b[38;5;241m.\u001b[39mmedian(nonzero), np\u001b[38;5;241m.\u001b[39mmax(nonzero), np\u001b[38;5;241m.\u001b[39mmin(nonzero))\n\u001b[0;32m      6\u001b[0m rm \u001b[38;5;241m=\u001b[39m flat\u001b[38;5;241m/\u001b[39m(np\u001b[38;5;241m.\u001b[39mmean(flat)\u001b[38;5;241m+\u001b[39m\u001b[38;5;241m3\u001b[39m\u001b[38;5;241m*\u001b[39mnp\u001b[38;5;241m.\u001b[39mstd(flat))\n",
      "File \u001b[1;32mc:\\Users\\tempu\\AppData\\Local\\Programs\\Python\\Python312\\Lib\\site-packages\\numpy\\_core\\fromnumeric.py:3199\u001b[0m, in \u001b[0;36mmax\u001b[1;34m(a, axis, out, keepdims, initial, where)\u001b[0m\n\u001b[0;32m   3080\u001b[0m \u001b[38;5;129m@array_function_dispatch\u001b[39m(_max_dispatcher)\n\u001b[0;32m   3081\u001b[0m \u001b[38;5;129m@set_module\u001b[39m(\u001b[38;5;124m'\u001b[39m\u001b[38;5;124mnumpy\u001b[39m\u001b[38;5;124m'\u001b[39m)\n\u001b[0;32m   3082\u001b[0m \u001b[38;5;28;01mdef\u001b[39;00m \u001b[38;5;21mmax\u001b[39m(a, axis\u001b[38;5;241m=\u001b[39m\u001b[38;5;28;01mNone\u001b[39;00m, out\u001b[38;5;241m=\u001b[39m\u001b[38;5;28;01mNone\u001b[39;00m, keepdims\u001b[38;5;241m=\u001b[39mnp\u001b[38;5;241m.\u001b[39m_NoValue, initial\u001b[38;5;241m=\u001b[39mnp\u001b[38;5;241m.\u001b[39m_NoValue,\n\u001b[0;32m   3083\u001b[0m          where\u001b[38;5;241m=\u001b[39mnp\u001b[38;5;241m.\u001b[39m_NoValue):\n\u001b[0;32m   3084\u001b[0m \u001b[38;5;250m    \u001b[39m\u001b[38;5;124;03m\"\"\"\u001b[39;00m\n\u001b[0;32m   3085\u001b[0m \u001b[38;5;124;03m    Return the maximum of an array or maximum along an axis.\u001b[39;00m\n\u001b[0;32m   3086\u001b[0m \n\u001b[1;32m   (...)\u001b[0m\n\u001b[0;32m   3197\u001b[0m \u001b[38;5;124;03m    5\u001b[39;00m\n\u001b[0;32m   3198\u001b[0m \u001b[38;5;124;03m    \"\"\"\u001b[39;00m\n\u001b[1;32m-> 3199\u001b[0m     \u001b[38;5;28;01mreturn\u001b[39;00m \u001b[43m_wrapreduction\u001b[49m\u001b[43m(\u001b[49m\u001b[43ma\u001b[49m\u001b[43m,\u001b[49m\u001b[43m \u001b[49m\u001b[43mnp\u001b[49m\u001b[38;5;241;43m.\u001b[39;49m\u001b[43mmaximum\u001b[49m\u001b[43m,\u001b[49m\u001b[43m \u001b[49m\u001b[38;5;124;43m'\u001b[39;49m\u001b[38;5;124;43mmax\u001b[39;49m\u001b[38;5;124;43m'\u001b[39;49m\u001b[43m,\u001b[49m\u001b[43m \u001b[49m\u001b[43maxis\u001b[49m\u001b[43m,\u001b[49m\u001b[43m \u001b[49m\u001b[38;5;28;43;01mNone\u001b[39;49;00m\u001b[43m,\u001b[49m\u001b[43m \u001b[49m\u001b[43mout\u001b[49m\u001b[43m,\u001b[49m\n\u001b[0;32m   3200\u001b[0m \u001b[43m                          \u001b[49m\u001b[43mkeepdims\u001b[49m\u001b[38;5;241;43m=\u001b[39;49m\u001b[43mkeepdims\u001b[49m\u001b[43m,\u001b[49m\u001b[43m \u001b[49m\u001b[43minitial\u001b[49m\u001b[38;5;241;43m=\u001b[39;49m\u001b[43minitial\u001b[49m\u001b[43m,\u001b[49m\u001b[43m \u001b[49m\u001b[43mwhere\u001b[49m\u001b[38;5;241;43m=\u001b[39;49m\u001b[43mwhere\u001b[49m\u001b[43m)\u001b[49m\n",
      "File \u001b[1;32mc:\\Users\\tempu\\AppData\\Local\\Programs\\Python\\Python312\\Lib\\site-packages\\numpy\\_core\\fromnumeric.py:86\u001b[0m, in \u001b[0;36m_wrapreduction\u001b[1;34m(obj, ufunc, method, axis, dtype, out, **kwargs)\u001b[0m\n\u001b[0;32m     83\u001b[0m         \u001b[38;5;28;01melse\u001b[39;00m:\n\u001b[0;32m     84\u001b[0m             \u001b[38;5;28;01mreturn\u001b[39;00m reduction(axis\u001b[38;5;241m=\u001b[39maxis, out\u001b[38;5;241m=\u001b[39mout, \u001b[38;5;241m*\u001b[39m\u001b[38;5;241m*\u001b[39mpasskwargs)\n\u001b[1;32m---> 86\u001b[0m \u001b[38;5;28;01mreturn\u001b[39;00m \u001b[43mufunc\u001b[49m\u001b[38;5;241;43m.\u001b[39;49m\u001b[43mreduce\u001b[49m\u001b[43m(\u001b[49m\u001b[43mobj\u001b[49m\u001b[43m,\u001b[49m\u001b[43m \u001b[49m\u001b[43maxis\u001b[49m\u001b[43m,\u001b[49m\u001b[43m \u001b[49m\u001b[43mdtype\u001b[49m\u001b[43m,\u001b[49m\u001b[43m \u001b[49m\u001b[43mout\u001b[49m\u001b[43m,\u001b[49m\u001b[43m \u001b[49m\u001b[38;5;241;43m*\u001b[39;49m\u001b[38;5;241;43m*\u001b[39;49m\u001b[43mpasskwargs\u001b[49m\u001b[43m)\u001b[49m\n",
      "\u001b[1;31mValueError\u001b[0m: zero-size array to reduction operation maximum which has no identity"
     ]
    }
   ],
   "source": [
    "attention_np = np.array(attention_list)\n",
    "flat = attention_np.flatten()\n",
    "nonzero = flat[flat>1e-3]\n",
    "print(np.mean(flat), np.std(flat), np.median(flat), np.max(flat), np.min(flat))\n",
    "print(np.mean(nonzero), np.std(nonzero), np.median(nonzero), np.max(nonzero), np.min(nonzero))\n",
    "rm = flat/(np.mean(flat)+3*np.std(flat))\n",
    "plt.hist(rm[rm>1e-3], bins=100);\n",
    "\n",
    "scale_att = 1/(np.mean(flat)+3*np.std(flat))"
   ]
  },
  {
   "cell_type": "code",
   "execution_count": 71,
   "metadata": {},
   "outputs": [
    {
     "name": "stdout",
     "output_type": "stream",
     "text": [
      "24.490134492211237 115.88528201186482 0.0 2099.30224609375 -0.0\n",
      "290.15228619737195 286.4005760988561 176.34832763671875 2099.30224609375 0.001007080078125\n"
     ]
    },
    {
     "data": {
      "image/png": "[encoded data removed]",
      "text/plain": [
       "<Figure size 640x480 with 1 Axes>"
      ]
     },
     "metadata": {},
     "output_type": "display_data"
    }
   ],
   "source": [
    "depth_np = np.array(depth_list)\n",
    "flat = depth_np.flatten()\n",
    "nonzero = flat[flat>1e-3]\n",
    "print(np.mean(flat), np.std(flat), np.median(flat), np.max(flat), np.min(flat))\n",
    "print(np.mean(nonzero), np.std(nonzero), np.median(nonzero), np.max(nonzero), np.min(nonzero))\n",
    "rm = flat/(np.mean(flat)+3*np.std(flat))\n",
    "plt.hist(rm[rm>1e-3], bins=100);\n",
    "\n",
    "scale_dep = 1/(np.mean(flat)+3*np.std(flat))"
   ]
  },
  {
   "cell_type": "code",
   "execution_count": 110,
   "metadata": {},
   "outputs": [],
   "source": [
    "combined_list = []\n",
    "thresholded_list = []\n",
    "output_list_scaled = []\n",
    "BIAS = 0.9\n",
    "\n",
    "for frame in range(len(attention_list)):\n",
    "    attention_nm = attention_list[frame]*scale_att\n",
    "    depth_nm = depth_list[frame]*scale_dep\n",
    "    global BIAS\n",
    "    global SCALE\n",
    "    depth_re = cv2.resize(depth_nm, dsize=(16*SCALE, 9*SCALE), interpolation=cv2.INTER_CUBIC)\n",
    "    attention_re = cv2.resize(attention_nm, dsize=(16*SCALE, 9*SCALE), interpolation=cv2.INTER_CUBIC)\n",
    "\n",
    "    # combined = ((1-BIAS)*depth_re + (BIAS)*attention_re)\n",
    "    combined = depth_re*attention_re\n",
    "    # combined = cv2.normalize(combined, None, 0, 1, norm_type=cv2.NORM_MINMAX, dtype=cv2.CV_64F)\n",
    "    thresholded = (combined > THRESHOLD_VAL) * combined\n",
    "    combined_list.append(combined)\n",
    "    thresholded_list.append(thresholded)\n",
    "\n",
    "    ### new code for interpolation:\n",
    "    downsampled = np.zeros((DISPLAY_H, DISPLAY_W))\n",
    "    interval_H = int(np.floor(thresholded.shape[0]/DISPLAY_H))\n",
    "    interval_W = int(np.floor(thresholded.shape[1]/DISPLAY_W))\n",
    "    for rr in range(0, DISPLAY_H):\n",
    "        for cc in range(0, DISPLAY_W):\n",
    "            frame_slice = thresholded[rr*interval_H:(rr+1)*interval_H, cc*interval_W:(cc+1)*interval_W]\n",
    "            mean_slice = np.mean(frame_slice)\n",
    "            std_slice = np.std(frame_slice)\n",
    "            max_slice = np.max(frame_slice)\n",
    "            if mean_slice+3*std_slice > max_slice: # I'm doing some weird selection of max vs. mean depending on std of the frame slice\n",
    "                downsampled[rr, cc] = max_slice\n",
    "            else:\n",
    "                downsampled[rr, cc] = mean_slice\n",
    "\n",
    "    output_list_scaled.append(downsampled)"
   ]
  },
  {
   "cell_type": "code",
   "execution_count": 112,
   "metadata": {},
   "outputs": [
    {
     "data": {
      "text/plain": [
       "<matplotlib.image.AxesImage at 0x19782287490>"
      ]
     },
     "execution_count": 112,
     "metadata": {},
     "output_type": "execute_result"
    },
    {
     "data": {
      "image/png": "[encoded data removed]",
      "text/plain": [
       "<Figure size 640x480 with 1 Axes>"
      ]
     },
     "metadata": {},
     "output_type": "display_data"
    }
   ],
   "source": [
    "plt.imshow(output_list_scaled[200])\n",
    "# plt.imshow(combined_list[200])\n",
    "# plt.imshow(depth_list[200])\n",
    "# plt.imshow(attention_list[200])"
   ]
  },
  {
   "cell_type": "code",
   "execution_count": 121,
   "metadata": {},
   "outputs": [
    {
     "data": {
      "image/png": "[encoded data removed]",
      "text/plain": [
       "<Figure size 640x480 with 1 Axes>"
      ]
     },
     "metadata": {},
     "output_type": "display_data"
    }
   ],
   "source": [
    "output_np = np.array(output_list_scaled)\n",
    "flat = output_np.flatten()\n",
    "nonzero = flat[flat>1e-3]\n",
    "# plt.hist(nonzero, bins=100);\n",
    "\n",
    "max_thresh = (np.mean(flat)+5*np.std(flat))\n",
    "output_np[output_np>max_thresh] = max_thresh\n",
    "scale_output = 1/(max_thresh)\n",
    "output_scale = output_np*scale_output\n",
    "flat2= output_scale.flatten()\n",
    "plt.hist(flat2[flat2>1e-2], bins=20);"
   ]
  }
 ],
 "metadata": {
  "kernelspec": {
   "display_name": "Python 3",
   "language": "python",
   "name": "python3"
  },
  "language_info": {
   "codemirror_mode": {
    "name": "ipython",
    "version": 3
   },
   "file_extension": ".py",
   "mimetype": "text/x-python",
   "name": "python",
   "nbconvert_exporter": "python",
   "pygments_lexer": "ipython3",
   "version": "3.12.3"
  }
 },
 "nbformat": 4,
 "nbformat_minor": 2
}
